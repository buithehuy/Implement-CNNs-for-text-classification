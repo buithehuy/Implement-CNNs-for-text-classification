{
  "nbformat": 4,
  "nbformat_minor": 0,
  "metadata": {
    "colab": {
      "provenance": []
    },
    "kernelspec": {
      "name": "python3",
      "display_name": "Python 3"
    },
    "language_info": {
      "name": "python"
    }
  },
  "cells": [
    {
      "cell_type": "code",
      "source": [
        "import pandas as pd\n",
        "import numpy as np\n",
        "import torch\n",
        "from torch.utils.data import DataLoader, Dataset\n",
        "from torch import nn, optim\n",
        "from sklearn.model_selection import train_test_split\n",
        "from sklearn.preprocessing import LabelEncoder\n",
        "from tqdm import tqdm\n",
        "from torch.nn.utils.rnn import pad_sequence"
      ],
      "metadata": {
        "id": "EF6Khaltka2A"
      },
      "execution_count": 5,
      "outputs": []
    },
    {
      "cell_type": "code",
      "source": [
        "df = pd.read_csv('IMDB Dataset.csv')\n",
        "df['sentiment'] = LabelEncoder().fit_transform(df['sentiment'])  # Convert labels to 0 (negative), 1 (positive)"
      ],
      "metadata": {
        "id": "thggxNJouKC-"
      },
      "execution_count": 6,
      "outputs": []
    },
    {
      "cell_type": "code",
      "source": [
        "def tokenize(text):\n",
        "    return text.lower().split()\n",
        "\n",
        "df['tokens'] = df['review'].apply(tokenize)"
      ],
      "metadata": {
        "id": "wM0W6MoYuRdl"
      },
      "execution_count": 7,
      "outputs": []
    },
    {
      "cell_type": "code",
      "source": [
        "all_tokens = [token for tokens in df['tokens'] for token in tokens]\n",
        "vocab = set(all_tokens)\n",
        "word2idx = {word: idx + 1 for idx, word in enumerate(vocab)}  # +1 to reserve idx=0 for padding\n",
        "vocab_size = len(word2idx) + 1\n"
      ],
      "metadata": {
        "id": "agEFl9a9uiqm"
      },
      "execution_count": 8,
      "outputs": []
    },
    {
      "cell_type": "code",
      "source": [
        "# Convert tokens to indices\n",
        "df['indices'] = df['tokens'].apply(lambda x: [word2idx[word] for word in x if word in word2idx])"
      ],
      "metadata": {
        "id": "nMTrmfcluno9"
      },
      "execution_count": 9,
      "outputs": []
    },
    {
      "cell_type": "code",
      "source": [
        "# Custom Dataset\n",
        "class IMDBDataset(Dataset):\n",
        "    def __init__(self, reviews, labels):\n",
        "        self.reviews = reviews\n",
        "        self.labels = labels\n",
        "\n",
        "    def __len__(self):\n",
        "        return len(self.reviews)\n",
        "\n",
        "    def __getitem__(self, idx):\n",
        "        return torch.tensor(self.reviews[idx]), torch.tensor(self.labels[idx])\n",
        "\n",
        "# Split dataset\n",
        "train_data, test_data = train_test_split(df, test_size=0.2, random_state=42)\n",
        "train_dataset = IMDBDataset(train_data['indices'].tolist(), train_data['sentiment'].tolist())\n",
        "test_dataset = IMDBDataset(test_data['indices'].tolist(), test_data['sentiment'].tolist())"
      ],
      "metadata": {
        "id": "bwB85LGkurx1"
      },
      "execution_count": 10,
      "outputs": []
    },
    {
      "cell_type": "code",
      "source": [
        "# Collate function for padding\n",
        "def collate_fn(batch):\n",
        "    reviews, labels = zip(*batch)\n",
        "    reviews = pad_sequence(reviews, batch_first=True, padding_value=0)\n",
        "    labels = torch.tensor(labels)\n",
        "    return reviews, labels\n",
        "\n",
        "# DataLoaders\n",
        "train_loader = DataLoader(train_dataset, batch_size=64, shuffle=True, collate_fn=collate_fn)\n",
        "test_loader = DataLoader(test_dataset, batch_size=64, shuffle=False, collate_fn=collate_fn)\n"
      ],
      "metadata": {
        "id": "g0YxvXQ_uxJk"
      },
      "execution_count": 11,
      "outputs": []
    },
    {
      "cell_type": "code",
      "source": [
        "# CNN Model\n",
        "class TextCNN(nn.Module):\n",
        "    def __init__(self, vocab_size, embed_dim, num_classes, kernel_sizes, num_filters):\n",
        "        super(TextCNN, self).__init__()\n",
        "        self.embedding = nn.Embedding(vocab_size, embed_dim, padding_idx=0)\n",
        "        self.convs = nn.ModuleList([\n",
        "            nn.Conv2d(1, num_filters, (k, embed_dim)) for k in kernel_sizes\n",
        "        ])\n",
        "        self.fc = nn.Linear(num_filters * len(kernel_sizes), num_classes)\n",
        "        self.dropout = nn.Dropout(0.5)\n",
        "\n",
        "    def forward(self, x):\n",
        "        x = self.embedding(x).unsqueeze(1)  # Add channel dimension\n",
        "        x = [torch.relu(conv(x)).squeeze(3) for conv in self.convs]\n",
        "        x = [torch.max_pool1d(feature, feature.size(2)).squeeze(2) for feature in x]\n",
        "        x = torch.cat(x, dim=1)\n",
        "        x = self.dropout(x)\n",
        "        return self.fc(x)\n",
        "\n",
        "# Hyperparameters\n",
        "embed_dim = 100\n",
        "kernel_sizes = [3, 4, 5]\n",
        "num_filters = 100\n",
        "num_classes = 2\n",
        "learning_rate = 1e-3\n",
        "num_epochs = 5\n",
        "\n",
        "# Model, loss, optimizer\n",
        "device = torch.device('cuda' if torch.cuda.is_available() else 'cpu')\n",
        "model = TextCNN(vocab_size, embed_dim, num_classes, kernel_sizes, num_filters).to(device)\n",
        "criterion = nn.CrossEntropyLoss()\n",
        "optimizer = optim.Adam(model.parameters(), lr=learning_rate)\n",
        "\n",
        "# Training loop\n",
        "for epoch in range(num_epochs):\n",
        "    model.train()\n",
        "    total_loss = 0\n",
        "    for reviews, labels in tqdm(train_loader):\n",
        "        reviews, labels = reviews.to(device), labels.to(device)\n",
        "        optimizer.zero_grad()\n",
        "        outputs = model(reviews)\n",
        "        loss = criterion(outputs, labels)\n",
        "        loss.backward()\n",
        "        optimizer.step()\n",
        "        total_loss += loss.item()\n",
        "    print(f\"Epoch {epoch+1}/{num_epochs}, Loss: {total_loss / len(train_loader):.4f}\")\n",
        "\n",
        "# Evaluation\n",
        "model.eval()\n",
        "correct, total = 0, 0\n",
        "with torch.no_grad():\n",
        "    for reviews, labels in test_loader:\n",
        "        reviews, labels = reviews.to(device), labels.to(device)\n",
        "        outputs = model(reviews)\n",
        "        preds = torch.argmax(outputs, dim=1)\n",
        "        correct += (preds == labels).sum().item()\n",
        "        total += labels.size(0)\n",
        "print(f\"Test Accuracy: {correct / total:.4f}\")"
      ],
      "metadata": {
        "colab": {
          "base_uri": "https://localhost:8080/"
        },
        "id": "y-JabjkRu1vE",
        "outputId": "3ce1cb99-33c6-41fa-d831-76f45c754d15"
      },
      "execution_count": 12,
      "outputs": [
        {
          "metadata": {
            "tags": null
          },
          "name": "stderr",
          "output_type": "stream",
          "text": [
            "100%|██████████| 625/625 [36:00<00:00,  3.46s/it]\n"
          ]
        },
        {
          "metadata": {
            "tags": null
          },
          "name": "stdout",
          "output_type": "stream",
          "text": [
            "Epoch 1/5, Loss: 0.6278\n"
          ]
        },
        {
          "metadata": {
            "tags": null
          },
          "name": "stderr",
          "output_type": "stream",
          "text": [
            "100%|██████████| 625/625 [34:50<00:00,  3.35s/it]\n"
          ]
        },
        {
          "metadata": {
            "tags": null
          },
          "name": "stdout",
          "output_type": "stream",
          "text": [
            "Epoch 2/5, Loss: 0.4760\n"
          ]
        },
        {
          "metadata": {
            "tags": null
          },
          "name": "stderr",
          "output_type": "stream",
          "text": [
            "100%|██████████| 625/625 [35:31<00:00,  3.41s/it]\n"
          ]
        },
        {
          "metadata": {
            "tags": null
          },
          "name": "stdout",
          "output_type": "stream",
          "text": [
            "Epoch 3/5, Loss: 0.3873\n"
          ]
        },
        {
          "metadata": {
            "tags": null
          },
          "name": "stderr",
          "output_type": "stream",
          "text": [
            "100%|██████████| 625/625 [36:02<00:00,  3.46s/it]\n"
          ]
        },
        {
          "metadata": {
            "tags": null
          },
          "name": "stdout",
          "output_type": "stream",
          "text": [
            "Epoch 4/5, Loss: 0.2935\n"
          ]
        },
        {
          "output_type": "stream",
          "name": "stderr",
          "text": [
            "100%|██████████| 625/625 [36:47<00:00,  3.53s/it]\n"
          ]
        },
        {
          "output_type": "stream",
          "name": "stdout",
          "text": [
            "Epoch 5/5, Loss: 0.2140\n",
            "Test Accuracy: 0.8796\n"
          ]
        }
      ]
    },
    {
      "cell_type": "code",
      "source": [
        "# Save the trained model\n",
        "torch.save(model.state_dict(), \"text_cnn_model.pth\")\n",
        "print(\"Model saved as text_cnn_model.pth\")"
      ],
      "metadata": {
        "id": "4AMaKWk3iPT2",
        "outputId": "f5b2ba7a-d175-4549-8bda-eab470443289",
        "colab": {
          "base_uri": "https://localhost:8080/"
        }
      },
      "execution_count": 19,
      "outputs": [
        {
          "output_type": "stream",
          "name": "stdout",
          "text": [
            "Model saved as text_cnn_model.pth\n"
          ]
        }
      ]
    },
    {
      "cell_type": "code",
      "source": [
        "# Preprocess and predict sentiment of input text\n",
        "def predict_sentiment(model, text, word2idx, device):\n",
        "    model.eval()\n",
        "    tokens = tokenize(text)  # Tokenize input\n",
        "    indices = torch.tensor([word2idx.get(word, 0) for word in tokens])  # Convert to indices, use 0 if word not in vocab\n",
        "    indices = indices.unsqueeze(0).to(device)  # Add batch dimension\n",
        "    with torch.no_grad():\n",
        "        output = model(indices)\n",
        "        prediction = torch.argmax(output, dim=1).item()  # Get the predicted class (0 or 1)\n",
        "    return \"Positive\" if prediction == 1 else \"Negative\"\n",
        "\n",
        "# Test input text\n",
        "input_text = input(\"Enter a movie review: \")\n",
        "result = predict_sentiment(model, input_text, word2idx, device)\n",
        "print(f\"Predicted Sentiment: {result}\")\n"
      ],
      "metadata": {
        "id": "IhQc7rpgfwyu",
        "outputId": "4b74fe9b-137a-47b5-c491-6e0da1b38613",
        "colab": {
          "base_uri": "https://localhost:8080/"
        }
      },
      "execution_count": 18,
      "outputs": [
        {
          "output_type": "stream",
          "name": "stdout",
          "text": [
            "Enter a movie review: This movie is boring and violent!\n",
            "Predicted Sentiment: Negative\n"
          ]
        }
      ]
    }
  ]
}